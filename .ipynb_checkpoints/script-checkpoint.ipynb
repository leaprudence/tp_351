{
 "cells": [
  {
   "cell_type": "code",
   "execution_count": 42,
   "metadata": {},
   "outputs": [],
   "source": [
    "import os\n",
    "import pandas as pd\n",
    "import psycopg2\n",
    "import re"
   ]
  },
  {
   "cell_type": "code",
   "execution_count": 43,
   "metadata": {},
   "outputs": [
    {
     "name": "stdout",
     "output_type": "stream",
     "text": [
      "Connexion réussie !\n"
     ]
    }
   ],
   "source": [
    "\n",
    "try:\n",
    "    # Remplace les valeurs par tes propres informations de connexion\n",
    "    db = psycopg2.connect(\n",
    "        dbname=\"recsys\",\n",
    "        user=\"lea\",\n",
    "        password=\"prudence2006\",\n",
    "        host=\"localhost\",\n",
    "        port=\"5432\"\n",
    "    )\n",
    "    print(\"Connexion réussie !\")\n",
    "    cursor = db.cursor()\n",
    "except Exception as e:\n",
    "    print(f\"Erreur lors de la connexion : {e}\")\n",
    "finally:\n",
    "    if 'connection' in locals():\n",
    "        connection.close()"
   ]
  },
  {
   "cell_type": "code",
   "execution_count": 44,
   "metadata": {},
   "outputs": [],
   "source": [
    "dossier_principal = os.path.abspath('articles')"
   ]
  },
  {
   "cell_type": "code",
   "execution_count": 45,
   "metadata": {},
   "outputs": [
    {
     "name": "stdout",
     "output_type": "stream",
     "text": [
      "Le dossier existe : articles\n",
      "Dossier trouvé : articles/2014\n",
      "Dossier trouvé : articles/2016\n",
      "Dossier trouvé : articles/2017\n",
      "Dossier trouvé : articles/2015\n"
     ]
    }
   ],
   "source": [
    "dossier_principal = \"articles\"\n",
    "if os.path.exists(dossier_principal):\n",
    "    print(f\"Le dossier existe : {dossier_principal}\")\n",
    "    for annee in os.listdir(dossier_principal):\n",
    "        chemin_annee = os.path.join(dossier_principal, annee)\n",
    "\n",
    "        if os.path.isdir(chemin_annee):  # Vérifier si c'est bien un dossier\n",
    "            print(f\"Dossier trouvé : {chemin_annee}\")\n",
    "else:\n",
    "    print(f\"Le dossier principal n'existe pas : {dossier_principal}\")"
   ]
  },
  {
   "cell_type": "code",
   "execution_count": 29,
   "metadata": {},
   "outputs": [],
   "source": [
    "\n",
    "# Fonctions d'insertion\n",
    "def insert_pays(nom):\n",
    "    cursor.execute(\"INSERT INTO Pays (nom) VALUES (%s) ON CONFLICT (nom) DO NOTHING RETURNING id\", (nom,))\n",
    "    result = cursor.fetchone()\n",
    "    if not result:  # Si déjà présent, récupérer l'id\n",
    "        cursor.execute(\"SELECT id FROM Pays WHERE nom=%s\", (nom,))\n",
    "        result = cursor.fetchone()\n",
    "    return result[0]"
   ]
  },
  {
   "cell_type": "code",
   "execution_count": 30,
   "metadata": {},
   "outputs": [],
   "source": [
    "def insert_ville(nom, id_pays):\n",
    "    cursor.execute(\"\"\"\n",
    "        INSERT INTO Ville (nom, id_pays) \n",
    "        VALUES (%s, %s) ON CONFLICT (nom, id_pays) DO NOTHING RETURNING id\n",
    "    \"\"\", (nom, id_pays))\n",
    "    result = cursor.fetchone()\n",
    "    if not result:\n",
    "        cursor.execute(\"SELECT id FROM Ville WHERE nom=%s AND id_pays=%s\", (nom, id_pays))\n",
    "        result = cursor.fetchone()\n",
    "    return result[0]"
   ]
  },
  {
   "cell_type": "code",
   "execution_count": 31,
   "metadata": {},
   "outputs": [],
   "source": [
    "def insert_affiliation(nom, id_ville):\n",
    "    cursor.execute(\"\"\"\n",
    "        INSERT INTO Affiliation (nom, id_ville) \n",
    "        VALUES (%s, %s) ON CONFLICT (nom, id_ville) DO NOTHING RETURNING id\n",
    "    \"\"\", (nom, id_ville))\n",
    "    result = cursor.fetchone()\n",
    "    if not result:\n",
    "        cursor.execute(\"SELECT id FROM Affiliation WHERE nom=%s AND id_ville=%s\", (nom, id_ville))\n",
    "        result = cursor.fetchone()\n",
    "    return result[0]\n"
   ]
  },
  {
   "cell_type": "code",
   "execution_count": 32,
   "metadata": {},
   "outputs": [],
   "source": [
    "def insert_auteur(nom, prenom, id_affiliation):\n",
    "    cursor.execute(\"\"\"\n",
    "        INSERT INTO Auteurs (nom, prenom, id_affiliation) \n",
    "        VALUES (%s, %s, %s) ON CONFLICT (nom, prenom, id_affiliation) DO NOTHING RETURNING id\n",
    "    \"\"\", (nom, prenom, id_affiliation))\n",
    "    result = cursor.fetchone()\n",
    "    if not result:\n",
    "        cursor.execute(\"\"\"\n",
    "            SELECT id FROM Auteurs \n",
    "            WHERE nom=%s AND prenom=%s AND id_affiliation=%s\n",
    "        \"\"\", (nom, prenom, id_affiliation))\n",
    "        result = cursor.fetchone()\n",
    "    return result[0]\n"
   ]
  },
  {
   "cell_type": "code",
   "execution_count": 33,
   "metadata": {},
   "outputs": [],
   "source": [
    "\n",
    "def insert_article(titre):\n",
    "    cursor.execute(\"\"\"\n",
    "        INSERT INTO Articles (titre, conference) \n",
    "        VALUES (%s, 'RecSys') ON CONFLICT (titre) DO NOTHING RETURNING id\n",
    "    \"\"\", (titre,))\n",
    "    result = cursor.fetchone()\n",
    "    if not result:\n",
    "        cursor.execute(\"SELECT id FROM Articles WHERE titre=%s\", (titre,))\n",
    "        result = cursor.fetchone()\n",
    "    return result[0]"
   ]
  },
  {
   "cell_type": "code",
   "execution_count": 34,
   "metadata": {},
   "outputs": [],
   "source": [
    "def insert_article_auteur(id_article, id_auteur):\n",
    "    cursor.execute(\"\"\"\n",
    "        INSERT INTO Article_Auteur (id_article, id_auteur) \n",
    "        VALUES (%s, %s) ON CONFLICT DO NOTHING\n",
    "    \"\"\", (id_article, id_auteur))\n",
    "    db.commit()"
   ]
  },
  {
   "cell_type": "code",
   "execution_count": 41,
   "metadata": {},
   "outputs": [],
   "source": [
    "\n",
    "# Parcourir les fichiers\n",
    "\n",
    "for dossier in os.listdir(dossier_principal):\n",
    "    dossier_path = os.path.join(dossier_principal, dossier)\n",
    "    if os.path.isdir(dossier_path):\n",
    "        for fichier in os.listdir(dossier_path):\n",
    "            if fichier.endswith(\".txt\"):\n",
    "                fichier_path = os.path.join(dossier_path, fichier)\n",
    "                try :\n",
    "                    with open(fichier_path, \"r\") as f:\n",
    "                        lignes = f.readlines()\n",
    "                        titre = lignes[0].strip()\n",
    "                        auteurs = lignes[1].strip().split(\"|\")\n",
    "\n",
    "                        id_article = insert_article(titre)\n",
    "\n",
    "                        for auteur in auteurs:\n",
    "                            match = re.search(r\"(.+?), (.+?), (.+?), (.+)\", auteur.strip())\n",
    "                            if match:\n",
    "                                prenom, institution, ville, pays = match.groups()\n",
    "                                nom = prenom.split(\" \")[-1]  # Extraire le nom de l'auteur\n",
    "                                id_pays = insert_pays(pays.strip())\n",
    "                                id_ville = insert_ville(ville.strip(), id_pays)\n",
    "                                id_affiliation = insert_affiliation(institution.strip(), id_ville)\n",
    "                                id_auteur = insert_auteur(nom.strip(), id_affiliation)\n",
    "                                insert_article_auteur(id_article, id_auteur)\n",
    "\n",
    "                        conn.commit()  # Valider les transactions\n",
    "                except Exception as e:\n",
    "                    print(f\"Erreur lors de l'insertion : {e}\")\n",
    "                    conn.rollback()  # Annuler les changements en cas d'erreur\n",
    "                finally:\n",
    "                    cursor.close()  # Fermer le curseur\n",
    "                    db.close()  # Fermer la connexion"
   ]
  },
  {
   "cell_type": "code",
   "execution_count": 40,
   "metadata": {},
   "outputs": [],
   "source": [
    "\n",
    "# Parcourir les fichiers\n",
    "\n",
    "for dossier in os.listdir(dossier_principal):\n",
    "    dossier_path = os.path.join(dossier_principal, dossier)\n",
    "    if os.path.isdir(dossier_path):\n",
    "        for fichier in os.listdir(dossier_path):\n",
    "            if fichier.endswith(\".txt\"):\n",
    "                fichier_path = os.path.join(dossier_path, fichier)\n",
    "                with open(fichier_path, \"r\") as f:\n",
    "                    lignes = f.readlines()\n",
    "                    titre = lignes[0].strip()\n",
    "                    id_article = insert_article(titre)\n",
    "                    auteurs = lignes[1].strip().split(\"|\")\n",
    "                    \n",
    "                    \n",
    "                    \n",
    "                    for auteur in auteurs:\n",
    "                        match = re.search(r\"(.+?), (.+?), (.+?), (.+)\", auteur.strip())\n",
    "                        if match:\n",
    "                            nom, institution, ville, etat, pays = match.groups()\n",
    "                            id_pays = insert_pays(pays.strip())\n",
    "                            id_ville = insert_ville(ville.strip(), id_pays)\n",
    "                            id_affiliation = insert_affiliation(institution.strip(), id_ville)\n",
    "                            id_auteur = insert_auteur(nom.strip(), id_affiliation)\n",
    "                            insert_article_auteur(id_article, id_auteur)\n",
    "\n",
    "# Fermer la connexion\n",
    "cursor.close()\n",
    "db.close()"
   ]
  },
  {
   "cell_type": "code",
   "execution_count": 23,
   "metadata": {},
   "outputs": [
    {
     "ename": "FileNotFoundError",
     "evalue": "[Errno 2] No such file or directory: '/chemin/vers/dossier'",
     "output_type": "error",
     "traceback": [
      "\u001b[0;31m---------------------------------------------------------------------------\u001b[0m",
      "\u001b[0;31mFileNotFoundError\u001b[0m                         Traceback (most recent call last)",
      "Cell \u001b[0;32mIn[23], line 3\u001b[0m\n\u001b[1;32m      1\u001b[0m \u001b[38;5;66;03m# Parcourir les fichiers\u001b[39;00m\n\u001b[1;32m      2\u001b[0m base_dir \u001b[38;5;241m=\u001b[39m \u001b[38;5;124m\"\u001b[39m\u001b[38;5;124m/chemin/vers/dossier\u001b[39m\u001b[38;5;124m\"\u001b[39m\n\u001b[0;32m----> 3\u001b[0m \u001b[38;5;28;01mfor\u001b[39;00m dossier \u001b[38;5;129;01min\u001b[39;00m \u001b[43mos\u001b[49m\u001b[38;5;241;43m.\u001b[39;49m\u001b[43mlistdir\u001b[49m\u001b[43m(\u001b[49m\u001b[43mbase_dir\u001b[49m\u001b[43m)\u001b[49m:\n\u001b[1;32m      4\u001b[0m     dossier_path \u001b[38;5;241m=\u001b[39m os\u001b[38;5;241m.\u001b[39mpath\u001b[38;5;241m.\u001b[39mjoin(base_dir, dossier)\n\u001b[1;32m      5\u001b[0m     \u001b[38;5;28;01mif\u001b[39;00m os\u001b[38;5;241m.\u001b[39mpath\u001b[38;5;241m.\u001b[39misdir(dossier_path):\n",
      "\u001b[0;31mFileNotFoundError\u001b[0m: [Errno 2] No such file or directory: '/chemin/vers/dossier'"
     ]
    }
   ],
   "source": [
    "# Parcourir les fichiers\n",
    "base_dir = \"/chemin/vers/dossier\"\n",
    "for dossier in os.listdir(base_dir):\n",
    "    dossier_path = os.path.join(base_dir, dossier)\n",
    "    if os.path.isdir(dossier_path):\n",
    "        for fichier in os.listdir(dossier_path):\n",
    "            if fichier.endswith(\".txt\"):\n",
    "                fichier_path = os.path.join(dossier_path, fichier)\n",
    "                with open(fichier_path, \"r\") as f:\n",
    "                    lignes = f.readlines()\n",
    "                    titre = lignes[0].strip()\n",
    "                    id_article = insert_article(titre)\n",
    "                    auteurs = lignes[1].split(\")\")\n",
    "                    for auteur in auteurs:\n",
    "                        match = re.search(r\"(.+?), (.+?), (.+?), (.+?), (.+?), (.+)\", auteur.strip())\n",
    "                        if match:\n",
    "                            prenom, nom, institution, ville, etat, pays = match.groups()\n",
    "                            id_pays = insert_pays(pays.strip())\n",
    "                            id_ville = insert_ville(ville.strip(), id_pays)\n",
    "                            id_affiliation = insert_affiliation(institution.strip(), id_ville)\n",
    "                            id_auteur = insert_auteur(nom.strip(), prenom.strip(), id_affiliation)\n",
    "                            insert_article_auteur(id_article, id_auteur)\n",
    "db.close()"
   ]
  },
  {
   "cell_type": "code",
   "execution_count": 11,
   "metadata": {},
   "outputs": [
    {
     "ename": "NameError",
     "evalue": "name 'conn' is not defined",
     "output_type": "error",
     "traceback": [
      "\u001b[0;31m---------------------------------------------------------------------------\u001b[0m",
      "\u001b[0;31mNameError\u001b[0m                                 Traceback (most recent call last)",
      "Cell \u001b[0;32mIn[11], line 41\u001b[0m\n\u001b[1;32m     37\u001b[0m                             cur\u001b[38;5;241m.\u001b[39mexecute(\u001b[38;5;124m\"\u001b[39m\u001b[38;5;124mINSERT INTO Article_Auteur (article_id, auteur_id) VALUES (\u001b[39m\u001b[38;5;132;01m%s\u001b[39;00m\u001b[38;5;124m, \u001b[39m\u001b[38;5;132;01m%s\u001b[39;00m\u001b[38;5;124m)\u001b[39m\u001b[38;5;124m\"\u001b[39m,\n\u001b[1;32m     38\u001b[0m                                         (article_id, auteur_id))\n\u001b[1;32m     40\u001b[0m \u001b[38;5;66;03m# Commit des changements et fermeture de la connexion\u001b[39;00m\n\u001b[0;32m---> 41\u001b[0m \u001b[43mconn\u001b[49m\u001b[38;5;241m.\u001b[39mcommit()\n\u001b[1;32m     42\u001b[0m cur\u001b[38;5;241m.\u001b[39mclose()\n\u001b[1;32m     43\u001b[0m conn\u001b[38;5;241m.\u001b[39mclose()\n",
      "\u001b[0;31mNameError\u001b[0m: name 'conn' is not defined"
     ]
    }
   ],
   "source": [
    "\n",
    "# Parcourir chaque dossier par année\n",
    "for annee in os.listdir(dossier_principal):\n",
    "    chemin_annee = os.path.join(dossier_principal, annee)\n",
    "    \n",
    "    if os.path.isdir(chemin_annee):  # Vérifier si c'est bien un dossier\n",
    "        for fichier in os.listdir(chemin_annee):\n",
    "            if fichier.endswith('.txt'):  # Vérifier l'extension\n",
    "                chemin_fichier = os.path.join(chemin_annee, fichier)\n",
    "\n",
    "                # Lire le contenu du fichier\n",
    "                with open(chemin_fichier, 'r', encoding='utf-8') as file:\n",
    "                    contenu = file.read().strip()\n",
    "                    \n",
    "                    # Supposer que le contenu est structuré comme : Titre | Auteurs | Date\n",
    "                    lignes = contenu.split('|')\n",
    "                    if len(lignes) >= 3:\n",
    "                        titre = lignes[0].strip()\n",
    "                        auteurs = lignes[1].strip().split(',')\n",
    "                        date_publication = lignes[2].strip()  # Format à adapter si nécessaire\n",
    "\n",
    "                        # Insertion dans Articles\n",
    "                        cur.execute(\"INSERT INTO Articles (titre, date_publication) VALUES (%s, %s) RETURNING article_id\",\n",
    "                                    (titre, date_publication))\n",
    "                        article_id = cur.fetchone()[0]\n",
    "\n",
    "                        # Traitement des auteurs\n",
    "                        for auteur in auteurs:\n",
    "                            auteur = auteur.strip()\n",
    "                            \n",
    "                            # Insertion dans Auteurs\n",
    "                            cur.execute(\"INSERT INTO Auteurs (nom, institution, pays) VALUES (%s, %s, %s) ON CONFLICT (nom) DO NOTHING\",\n",
    "                                        (auteur, \"Institution_name\", \"Country_name\"))  # Remplacer par des valeurs appropriées\n",
    "                            cur.execute(\"SELECT auteur_id FROM Auteurs WHERE nom = %s\", (auteur,))\n",
    "                            auteur_id = cur.fetchone()[0]\n",
    "\n",
    "                            # Insertion dans Article_Auteur\n",
    "                            cur.execute(\"INSERT INTO Article_Auteur (article_id, auteur_id) VALUES (%s, %s)\",\n",
    "                                        (article_id, auteur_id))\n",
    "\n",
    "# Commit des changements et fermeture de la connexion\n",
    "conn.commit()\n",
    "cur.close()\n",
    "conn.close()"
   ]
  },
  {
   "cell_type": "code",
   "execution_count": null,
   "metadata": {},
   "outputs": [],
   "source": []
  },
  {
   "cell_type": "code",
   "execution_count": null,
   "metadata": {},
   "outputs": [],
   "source": []
  },
  {
   "cell_type": "code",
   "execution_count": null,
   "metadata": {},
   "outputs": [],
   "source": []
  }
 ],
 "metadata": {
  "kernelspec": {
   "display_name": "Python 3",
   "language": "python",
   "name": "python3"
  },
  "language_info": {
   "codemirror_mode": {
    "name": "ipython",
    "version": 3
   },
   "file_extension": ".py",
   "mimetype": "text/x-python",
   "name": "python",
   "nbconvert_exporter": "python",
   "pygments_lexer": "ipython3",
   "version": "3.10.12"
  }
 },
 "nbformat": 4,
 "nbformat_minor": 2
}
